{
 "cells": [
  {
   "cell_type": "code",
   "execution_count": 1,
   "id": "97bcf55c",
   "metadata": {},
   "outputs": [],
   "source": [
    "import torch\n",
    "import time"
   ]
  },
  {
   "cell_type": "code",
   "execution_count": 2,
   "id": "b9d8b0c6",
   "metadata": {},
   "outputs": [],
   "source": [
    "VGG9Net = torch.load('../model/vgg9net_DataEnhance.pkl',map_location=torch.device('cpu'))\n",
    "VGG11Net = torch.load('../model/finetune_vgg11net.pkl',map_location=torch.device('cpu'))\n",
    "ResNet18 = torch.load('../model/finetune_resnet18.pkl',map_location=torch.device('cpu'))"
   ]
  },
  {
   "cell_type": "code",
   "execution_count": 3,
   "id": "319d79eb",
   "metadata": {},
   "outputs": [
    {
     "name": "stdout",
     "output_type": "stream",
     "text": [
      "VGG9:0.321\n",
      "VGG11:2.624\n",
      "ResNet18:0.940\n"
     ]
    }
   ],
   "source": [
    "turns = 10\n",
    "st=time.time()\n",
    "for i in range(turns):\n",
    "    VGG9Net(torch.randn(size=(1, 1, 48, 48)))\n",
    "en=time.time()\n",
    "print('VGG9:%.3f'%(en-st))\n",
    "\n",
    "st=time.time()\n",
    "for i in range(turns):\n",
    "    VGG11Net(torch.randn(size=(1, 3, 224, 224)))\n",
    "en=time.time()\n",
    "print('VGG11:%.3f'%(en-st))\n",
    "\n",
    "st=time.time()\n",
    "for i in range(turns):\n",
    "    ResNet18(torch.randn(size=(1, 3, 224, 224)))\n",
    "en=time.time()\n",
    "print('ResNet18:%.3f'%(en-st))"
   ]
  }
 ],
 "metadata": {
  "kernelspec": {
   "display_name": "Python 3 (ipykernel)",
   "language": "python",
   "name": "python3"
  },
  "language_info": {
   "codemirror_mode": {
    "name": "ipython",
    "version": 3
   },
   "file_extension": ".py",
   "mimetype": "text/x-python",
   "name": "python",
   "nbconvert_exporter": "python",
   "pygments_lexer": "ipython3",
   "version": "3.8.10"
  }
 },
 "nbformat": 4,
 "nbformat_minor": 5
}
