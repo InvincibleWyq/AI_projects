{
 "cells": [
  {
   "cell_type": "code",
   "execution_count": 1,
   "metadata": {
    "origin_pos": 2,
    "tab": [
     "pytorch"
    ]
   },
   "outputs": [],
   "source": [
    "import pandas as pd\n",
    "import numpy as np\n",
    "import matplotlib.pyplot as plt\n",
    "import torch\n",
    "import torchvision\n",
    "import time\n",
    "from IPython import display\n",
    "from PIL import Image\n",
    "from torch import nn\n",
    "from torch.nn import functional as F\n",
    "from torch.utils.data import Dataset, DataLoader\n",
    "from torchvision import transforms, utils"
   ]
  },
  {
   "cell_type": "code",
   "execution_count": 2,
   "metadata": {},
   "outputs": [],
   "source": [
    "size = lambda x, *args, **kwargs: x.numel(*args, **kwargs)"
   ]
  },
  {
   "cell_type": "code",
   "execution_count": 3,
   "metadata": {},
   "outputs": [],
   "source": [
    "class Timer:\n",
    "    def __init__(self):\n",
    "        self.times = []\n",
    "        self.start()\n",
    "    def start(self):\n",
    "        self.tik = time.time()\n",
    "    def stop(self):\n",
    "        self.times.append(time.time() - self.tik)\n",
    "        return self.times[-1]\n",
    "    def sum(self):\n",
    "        return sum(self.times)"
   ]
  },
  {
   "cell_type": "code",
   "execution_count": 4,
   "metadata": {},
   "outputs": [],
   "source": [
    "class Accumulator:\n",
    "    def __init__(self, n):\n",
    "        self.data = [0.0] * n\n",
    "\n",
    "    def add(self, *args):\n",
    "        self.data = [a + float(b) for a, b in zip(self.data, args)]\n",
    "\n",
    "    def reset(self):\n",
    "        self.data = [0.0] * len(self.data)\n",
    "\n",
    "    def __getitem__(self, idx):\n",
    "        return self.data[idx]"
   ]
  },
  {
   "cell_type": "code",
   "execution_count": 5,
   "metadata": {},
   "outputs": [],
   "source": [
    "def set_axes(axes, xlabel, ylabel, xlim, ylim, xscale, yscale, legend):\n",
    "    axes.set_xlabel(xlabel)\n",
    "    axes.set_ylabel(ylabel)\n",
    "    axes.set_xscale(xscale)\n",
    "    axes.set_yscale(yscale)\n",
    "    axes.set_xlim(xlim)\n",
    "    axes.set_ylim(ylim)\n",
    "    if legend:\n",
    "        axes.legend(legend)\n",
    "    axes.grid()"
   ]
  },
  {
   "cell_type": "code",
   "execution_count": 6,
   "metadata": {},
   "outputs": [],
   "source": [
    "class Animator:\n",
    "    \"\"\"For plotting data in animation.\"\"\"\n",
    "    def __init__(self, xlabel=None, ylabel=None, legend=None, xlim=None,\n",
    "                 ylim=None, xscale='linear', yscale='linear',\n",
    "                 fmts=('-', 'm--', 'g-.', 'r:'), nrows=1, ncols=1,\n",
    "                 figsize=(3.5, 2.5)):\n",
    "        \"\"\"Defined in :numref:`sec_softmax_scratch`\"\"\"\n",
    "        # Incrementally plot multiple lines\n",
    "        if legend is None:\n",
    "            legend = []\n",
    "\n",
    "        self.fig, self.axes = plt.subplots(nrows, ncols, figsize=figsize)\n",
    "        if nrows * ncols == 1:\n",
    "            self.axes = [self.axes, ]\n",
    "        # Use a lambda function to capture arguments\n",
    "        self.config_axes = lambda: set_axes(self.axes[0], xlabel, ylabel, xlim, ylim, xscale, yscale, legend)\n",
    "        self.X, self.Y, self.fmts = None, None, fmts\n",
    "\n",
    "    def add(self, x, y):\n",
    "        # Add multiple data points into the figure\n",
    "        if not hasattr(y, \"__len__\"):\n",
    "            y = [y]\n",
    "        n = len(y)\n",
    "        if not hasattr(x, \"__len__\"):\n",
    "            x = [x] * n\n",
    "        if not self.X:\n",
    "            self.X = [[] for _ in range(n)]\n",
    "        if not self.Y:\n",
    "            self.Y = [[] for _ in range(n)]\n",
    "        for i, (a, b) in enumerate(zip(x, y)):\n",
    "            if a is not None and b is not None:\n",
    "                self.X[i].append(a)\n",
    "                self.Y[i].append(b)\n",
    "        self.axes[0].cla()\n",
    "        for x, y, fmt in zip(self.X, self.Y, self.fmts):\n",
    "            self.axes[0].plot(x, y, fmt)\n",
    "        self.config_axes()\n",
    "        display.display(self.fig)\n",
    "        display.clear_output(wait=True)"
   ]
  },
  {
   "cell_type": "code",
   "execution_count": 7,
   "metadata": {},
   "outputs": [],
   "source": [
    "def accuracy(y_hat, y):\n",
    "    if len(y_hat.shape) > 1 and y_hat.shape[1] > 1:\n",
    "        y_hat = y_hat.argmax(axis=1)\n",
    "    cmp = y_hat.type(y.dtype) == y\n",
    "    return float(cmp.type(y.dtype).sum())"
   ]
  },
  {
   "cell_type": "code",
   "execution_count": 8,
   "metadata": {},
   "outputs": [],
   "source": [
    "def evaluate_accuracy_gpu(net, data_iter, device=None):\n",
    "    if isinstance(net, nn.Module):\n",
    "        net.eval()  # Set the model to evaluation mode\n",
    "        if not device:\n",
    "            device = next(iter(net.parameters())).device\n",
    "    metric = Accumulator(2)\n",
    "    with torch.no_grad():\n",
    "        for X, y in data_iter:\n",
    "            if isinstance(X, list):\n",
    "                # Required for BERT Fine-tuning (to be covered later)\n",
    "                X = [x.to(device) for x in X]\n",
    "            else:\n",
    "                X = X.to(device)\n",
    "            y = y.to(device)\n",
    "            metric.add(accuracy(net(X), y), size(y))\n",
    "    return metric[0] / metric[1]"
   ]
  },
  {
   "cell_type": "code",
   "execution_count": 9,
   "metadata": {},
   "outputs": [],
   "source": [
    "def train(net, train_iter, test_iter, num_epochs, lr, device):\n",
    "    def init_weights(m):\n",
    "        if type(m) == nn.Linear or type(m) == nn.Conv2d:\n",
    "            nn.init.xavier_uniform_(m.weight)\n",
    "    net.apply(init_weights)\n",
    "    print('training on', device)\n",
    "    net.to(device)\n",
    "    optimizer = torch.optim.SGD(net.parameters(), lr=lr)\n",
    "    loss = nn.CrossEntropyLoss()\n",
    "    animator = Animator(xlabel='epoch', xlim=[1, num_epochs], legend=['train loss', 'train acc', 'test acc'])\n",
    "    timer, num_batches = Timer(), len(train_iter)\n",
    "    bestnet = net\n",
    "    test_acc = None\n",
    "    test_acc_best = 0\n",
    "    for epoch in range(num_epochs):\n",
    "        # Sum of training loss, sum of training accuracy, no. of examples\n",
    "        metric = Accumulator(3)\n",
    "        net.train()\n",
    "        for i, (X, y) in enumerate(train_iter):\n",
    "            timer.start()            \n",
    "            optimizer.zero_grad()\n",
    "            X, y = X.to(device), y.to(device)\n",
    "            y_hat = net(X)\n",
    "            l = loss(y_hat, y)\n",
    "            l.backward()\n",
    "            optimizer.step()\n",
    "            with torch.no_grad():\n",
    "                metric.add(l * X.shape[0], accuracy(y_hat, y), X.shape[0])\n",
    "            timer.stop()\n",
    "            train_l = metric[0] / metric[2]\n",
    "            train_acc = metric[1] / metric[2]\n",
    "            if (i + 1) % (num_batches // 5) == 0 or i == num_batches - 1:\n",
    "                animator.add(epoch + (i + 1) / num_batches,(train_l, train_acc, None))\n",
    "        test_acc = evaluate_accuracy_gpu(net, test_iter)\n",
    "        animator.add(epoch + 1, (None, None, test_acc))\n",
    "        #print('epoch%d  train_acc%.3f  test_acc%.3f'%(epoch,train_acc,test_acc))\n",
    "        if test_acc>test_acc_best:\n",
    "            test_acc_best = test_acc\n",
    "            bestnet = net        \n",
    "    print(f'loss {train_l:.3f}, train acc {train_acc:.3f}, '\n",
    "          f'best test acc {test_acc_best:.3f}')\n",
    "    print(f'{metric[2] * num_epochs / timer.sum():.1f} examples/sec '\n",
    "          f'on {str(device)}')\n",
    "    return bestnet"
   ]
  },
  {
   "cell_type": "code",
   "execution_count": 10,
   "metadata": {},
   "outputs": [],
   "source": [
    "def mytransform():\n",
    "    transA = transforms.RandomHorizontalFlip()\n",
    "    transB = transforms.RandomResizedCrop((48, 48), scale=(0.8, 1), ratio=(0.8, 1.25))\n",
    "    transC = transforms.ColorJitter(brightness=0.7, contrast=0.7)\n",
    "    return transforms.Compose([transA, transB, transC]) #三种变换的组合 "
   ]
  },
  {
   "cell_type": "code",
   "execution_count": 11,
   "metadata": {},
   "outputs": [],
   "source": [
    "class FacialExpressionDataset(Dataset):\n",
    "    def __init__(self, csv_path, train=True, readtensor=False, transform=None): #readtensor=True表示跳过前处理，直接读tensor        \n",
    "        if not readtensor:        \n",
    "            data = pd.read_csv(csv_path)\n",
    "            if train:            \n",
    "                data = data[data.Usage=='Training']\n",
    "                data = data.reset_index(drop=True)\n",
    "            else:\n",
    "                data = data[data.Usage=='Test']\n",
    "                data = data.reset_index(drop=True)            \n",
    "            print('Total%d'%len(data))\n",
    "            st = time.time()\n",
    "            self.Xlst=None\n",
    "            self.ylst=None\n",
    "            self.xsublst = None\n",
    "            self.ysublst = None\n",
    "            count = 0\n",
    "            groupnum = 0\n",
    "            subcount = 0\n",
    "            final = False\n",
    "            ########逐个图片操作########\n",
    "            for i in range(len(data)):\n",
    "                if i%500==0:\n",
    "                    et = time.time()\n",
    "                    print('complete%d, %d s'%(i, int(et-st)))\n",
    "                xlst = data.loc[i].pixels.split()        \n",
    "                xlst = [int(x) for x in xlst]\n",
    "                xlst = torch.tensor(xlst,dtype=torch.uint8).resize(48,48) #转为48*48的uint8 tensor\n",
    "                xlst = transforms.ToPILImage()(xlst) #转为Image                \n",
    "                y = torch.tensor([data.loc[i].emotion],dtype=torch.int64)\n",
    "                \n",
    "                # 若是1(Disgust)则数据增广10倍以平衡数据集                \n",
    "                turns = 1\n",
    "                if transform and train:                    \n",
    "                    turns = 10 if y==1 else 1\n",
    "                    \n",
    "                for j in range(turns): \n",
    "                    if i==len(data)-1 and j==turns-1:\n",
    "                        final = True\n",
    "                    if transform and y==1 and train:\n",
    "                        x = transform(xlst.resize(\n",
    "                            (64,64),resample=Image.HAMMING)) #插值到64*64，数据增广，变回48*48\n",
    "                    else:\n",
    "                        x = xlst\n",
    "                    x = 256*transforms.ToTensor()(x).resize(1,1,48,48) #转为1*1*48*48的float32 tensor\n",
    "                    #逐数据保存                    \n",
    "                    pack = 200 #200个数据一组来处理\n",
    "                    if final: #末数据\n",
    "                        self.xsublst = torch.cat((self.xsublst,x),0)\n",
    "                        self.ysublst = torch.cat((self.ysublst,y),0)\n",
    "                        if groupnum==0:\n",
    "                            self.Xlst = self.xsublst\n",
    "                            self.ylst = self.ysublst\n",
    "                        else:\n",
    "                            self.Xlst = torch.cat((self.Xlst,self.xsublst),0)\n",
    "                            self.ylst = torch.cat((self.ylst,self.ysublst),0)\n",
    "                    elif subcount==0:                        \n",
    "                        if groupnum==0:#首组的组头\n",
    "                            self.xsublst = x\n",
    "                            self.ysublst = y\n",
    "                        elif groupnum==1:#次组的组头\n",
    "                            self.Xlst = self.xsublst\n",
    "                            self.ylst = self.ysublst\n",
    "                            self.xsublst = x\n",
    "                            self.ysublst = y\n",
    "                        else:#其余的组头\n",
    "                            self.Xlst = torch.cat((self.Xlst,self.xsublst),0)\n",
    "                            self.ylst = torch.cat((self.ylst,self.ysublst),0)\n",
    "                            self.xsublst = x\n",
    "                            self.ysublst = y\n",
    "                    else: #非组头\n",
    "                        self.xsublst = torch.cat((self.xsublst,x),0)\n",
    "                        self.ysublst = torch.cat((self.ysublst,y),0)\n",
    "                    count = count+1\n",
    "                    groupnum = count//pack\n",
    "                    subcount = count%pack\n",
    "                    \n",
    "            ########保存处理后的数据########\n",
    "            if train:\n",
    "                torch.save(self.Xlst, '../data/train_data_Xlst_DataEnhance.pt')\n",
    "                torch.save(self.ylst, '../data/train_data_ylst_DataEnhance.pt')\n",
    "            else:\n",
    "                torch.save(self.Xlst, '../data/test_data_Xlst_DataEnhance.pt')\n",
    "                torch.save(self.ylst, '../data/test_data_ylst_DataEnhance.pt')\n",
    "            self.L = len(self.ylst)\n",
    "            print('correct!'if self.L==count else 'error!')\n",
    "        \n",
    "        else:\n",
    "            if train:\n",
    "                self.Xlst=torch.load('../data/train_data_Xlst_DataEnhance.pt')\n",
    "                self.ylst=torch.load('../data/train_data_ylst_DataEnhance.pt')\n",
    "            else:\n",
    "                self.Xlst=torch.load('../data/test_data_Xlst_DataEnhance.pt')\n",
    "                self.ylst=torch.load('../data/test_data_ylst_DataEnhance.pt')\n",
    "            self.L = len(self.ylst)\n",
    "\n",
    "    def __len__(self):\n",
    "        return self.L\n",
    "\n",
    "    def __getitem__(self, idx):\n",
    "        return (self.Xlst[idx], self.ylst[idx])"
   ]
  },
  {
   "cell_type": "code",
   "execution_count": 12,
   "metadata": {},
   "outputs": [],
   "source": [
    "train_data = FacialExpressionDataset('../data/data.csv', train=True, readtensor=True, transform=mytransform())"
   ]
  },
  {
   "cell_type": "code",
   "execution_count": 13,
   "metadata": {},
   "outputs": [
    {
     "name": "stdout",
     "output_type": "stream",
     "text": [
      "Total7178\n",
      "complete0, 0 s\n"
     ]
    },
    {
     "name": "stderr",
     "output_type": "stream",
     "text": [
      "/home1/wyq19/dev/lib/python3.7/site-packages/torch/tensor.py:474: UserWarning: non-inplace resize is deprecated\n",
      "  warnings.warn(\"non-inplace resize is deprecated\")\n"
     ]
    },
    {
     "name": "stdout",
     "output_type": "stream",
     "text": [
      "complete500, 1 s\n",
      "complete1000, 3 s\n",
      "complete1500, 5 s\n",
      "complete2000, 7 s\n",
      "complete2500, 9 s\n",
      "complete3000, 11 s\n",
      "complete3500, 13 s\n",
      "complete4000, 15 s\n",
      "complete4500, 17 s\n",
      "complete5000, 19 s\n",
      "complete5500, 20 s\n",
      "complete6000, 22 s\n",
      "complete6500, 23 s\n",
      "complete7000, 25 s\n",
      "correct!\n"
     ]
    }
   ],
   "source": [
    "test_data = FacialExpressionDataset('../data/data.csv', train=False, readtensor=False, transform=mytransform())"
   ]
  },
  {
   "cell_type": "code",
   "execution_count": null,
   "metadata": {},
   "outputs": [],
   "source": []
  },
  {
   "cell_type": "code",
   "execution_count": null,
   "metadata": {
    "origin_pos": 22,
    "tab": [
     "pytorch"
    ]
   },
   "outputs": [],
   "source": []
  },
  {
   "cell_type": "code",
   "execution_count": null,
   "metadata": {},
   "outputs": [],
   "source": []
  },
  {
   "cell_type": "code",
   "execution_count": 14,
   "metadata": {},
   "outputs": [],
   "source": [
    "# VGG\n",
    "def vgg_block(num_convs, in_channels, out_channels):\n",
    "    layers = []\n",
    "    for _ in range(num_convs):\n",
    "        layers.append(nn.Conv2d(in_channels, out_channels,\n",
    "                                kernel_size=3, padding=1))\n",
    "        layers.append(nn.ReLU())\n",
    "        in_channels = out_channels\n",
    "    layers.append(nn.MaxPool2d(kernel_size=2,stride=2))\n",
    "    return nn.Sequential(*layers)\n",
    "\n",
    "conv_arch = ((1, 64), (1, 128), (2, 256), (2, 512))\n",
    "\n",
    "def vgg(conv_arch):\n",
    "    conv_blks = []\n",
    "    in_channels = 1\n",
    "    # 卷积层部分\n",
    "    for (num_convs, out_channels) in conv_arch:\n",
    "        conv_blks.append(vgg_block(num_convs, in_channels, out_channels))\n",
    "        in_channels = out_channels\n",
    "\n",
    "    return nn.Sequential(\n",
    "        *conv_blks, nn.Flatten(),\n",
    "        # 全连接层部分\n",
    "        nn.Linear(out_channels * 3 * 3, 2048), nn.ReLU(), nn.Dropout(0.5),\n",
    "        nn.Linear(2048, 2048), nn.ReLU(), nn.Dropout(0.5),\n",
    "        nn.Linear(2048, 7))\n",
    "\n",
    "net = vgg(conv_arch)\n",
    "\n",
    "# X = torch.randn(size=(1, 1, 48, 48))\n",
    "# for blk in net:\n",
    "#     X = blk(X)\n",
    "#     print(blk.__class__.__name__,'output shape:\\t',X.shape)"
   ]
  },
  {
   "cell_type": "code",
   "execution_count": 15,
   "metadata": {
    "origin_pos": 33,
    "tab": [
     "pytorch"
    ]
   },
   "outputs": [
    {
     "name": "stdout",
     "output_type": "stream",
     "text": [
      "loss 0.135, train acc 0.956, best test acc 0.588\n",
      "3660.6 examples/sec on cuda:1\n"
     ]
    },
    {
     "data": {
      "image/png": "[encoded data removed]",
      "text/plain": [
       "<Figure size 252x180 with 1 Axes>"
      ]
     },
     "metadata": {
      "needs_background": "light"
     },
     "output_type": "display_data"
    }
   ],
   "source": [
    "lr, num_epochs, batch_size = 0.001, 80, 64\n",
    "train_iter = DataLoader(train_data, batch_size, shuffle=True, num_workers=4)\n",
    "test_iter = DataLoader(test_data, batch_size, shuffle=False, num_workers=4)\n",
    "final_net = train(net, train_iter, test_iter, num_epochs, lr, torch.device('cuda:1'))"
   ]
  },
  {
   "cell_type": "code",
   "execution_count": 16,
   "metadata": {},
   "outputs": [],
   "source": [
    "torch.save(final_net, './vgg9net_DataEnhance.pkl')"
   ]
  },
  {
   "cell_type": "code",
   "execution_count": null,
   "metadata": {},
   "outputs": [],
   "source": []
  }
 ],
 "metadata": {
  "kernelspec": {
   "display_name": "Python 3 (ipykernel)",
   "language": "python",
   "name": "python3"
  },
  "language_info": {
   "codemirror_mode": {
    "name": "ipython",
    "version": 3
   },
   "file_extension": ".py",
   "mimetype": "text/x-python",
   "name": "python",
   "nbconvert_exporter": "python",
   "pygments_lexer": "ipython3",
   "version": "3.8.10"
  }
 },
 "nbformat": 4,
 "nbformat_minor": 4
}
