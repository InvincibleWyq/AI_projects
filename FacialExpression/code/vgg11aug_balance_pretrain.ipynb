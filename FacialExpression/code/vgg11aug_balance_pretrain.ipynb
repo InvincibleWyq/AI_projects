{
 "cells": [
  {
   "cell_type": "code",
   "execution_count": null,
   "metadata": {
    "origin_pos": 4,
    "tab": [
     "pytorch"
    ]
   },
   "outputs": [],
   "source": [
    "import time\n",
    "import pandas as pd\n",
    "import torch\n",
    "import torchvision\n",
    "import copy\n",
    "from torch.utils.data import Dataset, DataLoader\n",
    "from torchvision import transforms\n",
    "from torch import nn\n",
    "from PIL import Image\n",
    "from d2l import torch as d2l"
   ]
  },
  {
   "cell_type": "code",
   "execution_count": null,
   "metadata": {},
   "outputs": [],
   "source": [
    "def mytransform():\n",
    "    transA = transforms.RandomHorizontalFlip()\n",
    "    transB = transforms.RandomResizedCrop((224, 224), scale=(0.8, 1), ratio=(0.8, 1.25))\n",
    "    transC = transforms.ColorJitter(brightness=0.7, contrast=0.7)\n",
    "    return transforms.Compose([transA, transB, transC]) #三种变换的组合 "
   ]
  },
  {
   "cell_type": "code",
   "execution_count": null,
   "metadata": {},
   "outputs": [],
   "source": [
    "class FacialExpressionDataset(Dataset):\n",
    "    def __init__(self, csv_path, train=True, readtensor=False, transform=None): #readtensor=True表示跳过前处理，直接读tensor        \n",
    "        if not readtensor:        \n",
    "            data = pd.read_csv(csv_path)\n",
    "            if train:            \n",
    "                data = data[data.Usage=='Training']\n",
    "                data = data.reset_index(drop=True)\n",
    "            else:\n",
    "                data = data[data.Usage=='Test']\n",
    "                data = data.reset_index(drop=True)            \n",
    "            print('Total%d'%len(data))\n",
    "            st = time.time()\n",
    "            self.Xlst=None\n",
    "            self.ylst=None\n",
    "            self.xsublst = None\n",
    "            self.ysublst = None\n",
    "            count = 0\n",
    "            groupnum = 0\n",
    "            subcount = 0\n",
    "            final = False\n",
    "            ########逐个图片操作########\n",
    "            for i in range(len(data)):\n",
    "                if i%500==0:\n",
    "                    et = time.time()\n",
    "                    print('complete%d, %d s'%(i, int(et-st)))\n",
    "                xlst = data.loc[i].pixels.split()        \n",
    "                xlst = [int(x) for x in xlst]\n",
    "                xlst = torch.tensor(xlst,dtype=torch.uint8).resize(48,48) #转为48*48的uint8 tensor\n",
    "                xlst = transforms.ToPILImage()(xlst) #转为Image                \n",
    "                y = torch.tensor([data.loc[i].emotion],dtype=torch.int64)\n",
    "                \n",
    "                # 从48*48扩至224*224并数据增广(image-augmentation)，若是1(Disgust)则多重复10倍以平衡数据集                \n",
    "                turns = 1\n",
    "                if transform:                    \n",
    "                    turns = 20 if y==1 else 2\n",
    "                    xlst = xlst.resize((288,288),resample=Image.HAMMING) #插值到288*288 \n",
    "                else:\n",
    "                    xlst = xlst.resize((224,224),resample=Image.HAMMING) #插值到224*224                \n",
    "                for j in range(turns): \n",
    "                    if i==len(data)-1 and j==turns-1:\n",
    "                        final = True\n",
    "                    if transform:\n",
    "                        x = transform(xlst) #数据增广并变到224*224                    \n",
    "                    x = 256*transforms.ToTensor()(x).resize(1,1,224,224) #转为1*1*224*224的float32 tensor\n",
    "                    #逐数据保存                    \n",
    "                    pack = 200 #200个数据一组来处理\n",
    "                    if final: #末数据\n",
    "                        self.xsublst = torch.cat((self.xsublst,x),0)\n",
    "                        self.ysublst = torch.cat((self.ysublst,y),0)\n",
    "                        if groupnum==0:\n",
    "                            self.Xlst = self.xsublst\n",
    "                            self.ylst = self.ysublst\n",
    "                        else:\n",
    "                            self.Xlst = torch.cat((self.Xlst,self.xsublst),0)\n",
    "                            self.ylst = torch.cat((self.ylst,self.ysublst),0)\n",
    "                    elif subcount==0:                        \n",
    "                        if groupnum==0:#首组的组头\n",
    "                            self.xsublst = x\n",
    "                            self.ysublst = y\n",
    "                        elif groupnum==1:#次组的组头\n",
    "                            self.Xlst = self.xsublst\n",
    "                            self.ylst = self.ysublst\n",
    "                            self.xsublst = x\n",
    "                            self.ysublst = y\n",
    "                        else:#其余的组头\n",
    "                            self.Xlst = torch.cat((self.Xlst,self.xsublst),0)\n",
    "                            self.ylst = torch.cat((self.ylst,self.ysublst),0)\n",
    "                            self.xsublst = x\n",
    "                            self.ysublst = y\n",
    "                    else: #非组头\n",
    "                        self.xsublst = torch.cat((self.xsublst,x),0)\n",
    "                        self.ysublst = torch.cat((self.ysublst,y),0)\n",
    "                    count = count+1\n",
    "                    groupnum = count//pack\n",
    "                    subcount = count%pack\n",
    "                    \n",
    "            ########保存处理后的数据########\n",
    "            if train:\n",
    "                torch.save(self.Xlst, '../data/train_data_Xlst_aug_balance.pt')\n",
    "                torch.save(self.ylst, '../data/train_data_ylst_aug_balance.pt')\n",
    "            else:\n",
    "                torch.save(self.Xlst, '../data/test_data_Xlst_aug_balance.pt')\n",
    "                torch.save(self.ylst, '../data/test_data_ylst_aug_balance.pt')\n",
    "            self.L = len(self.ylst)\n",
    "            print('correct!'if self.L==count else 'error!')\n",
    "        \n",
    "        else:\n",
    "            if train:\n",
    "                self.Xlst=torch.load('../data/train_data_Xlst_aug_balance.pt')\n",
    "                self.ylst=torch.load('../data/train_data_ylst_aug_balance.pt')\n",
    "            else:\n",
    "                self.Xlst=torch.load('../data/test_data_Xlst_aug_balance.pt')\n",
    "                self.ylst=torch.load('../data/test_data_ylst_aug_balance.pt')\n",
    "            self.L = len(self.ylst)\n",
    "\n",
    "    def __len__(self):\n",
    "        return self.L\n",
    "\n",
    "    def __getitem__(self, idx):\n",
    "        X = torch.cat((self.Xlst[idx],self.Xlst[idx],self.Xlst[idx]),0)\n",
    "        return (X, self.ylst[idx])"
   ]
  },
  {
   "cell_type": "code",
   "execution_count": null,
   "metadata": {},
   "outputs": [],
   "source": [
    "train_data = FacialExpressionDataset('../data/data.csv', train=True, readtensor=True, transform=mytransform())\n",
    "test_data = FacialExpressionDataset('../data/data.csv', train=False, readtensor=True, transform=mytransform())"
   ]
  },
  {
   "cell_type": "code",
   "execution_count": null,
   "metadata": {},
   "outputs": [],
   "source": [
    "def train_model(model, dataloaders, criterion, optimizer, num_epochs, device):\n",
    "    model = model.to(device)\n",
    "    since = time.time()\n",
    "    val_acc_history = []\n",
    "    best_model_wts = copy.deepcopy(model.state_dict())\n",
    "    best_acc = 0.0\n",
    "    for epoch in range(num_epochs):\n",
    "        print('Epoch {}/{}'.format(epoch, num_epochs - 1))\n",
    "        print('-' * 10)\n",
    "        # Each epoch has a training and validation phase\n",
    "        for phase in ['train', 'val']:\n",
    "            if phase == 'train':\n",
    "                model.train()  # Set model to training mode\n",
    "            else:\n",
    "                model.eval()   # Set model to evaluate mode\n",
    "            running_loss = 0.0\n",
    "            running_corrects = 0\n",
    "            for inputs, labels in dataloaders[phase]:\n",
    "                inputs = inputs.to(device)\n",
    "                labels = labels.to(device)\n",
    "                optimizer.zero_grad()\n",
    "                with torch.set_grad_enabled(phase == 'train'):\n",
    "                    outputs = model(inputs)\n",
    "                    loss = criterion(outputs, labels)\n",
    "                    _, preds = torch.max(outputs, 1)\n",
    "                    if phase == 'train':\n",
    "                        loss.backward()\n",
    "                        optimizer.step()\n",
    "                running_loss += loss.item() * inputs.size(0)\n",
    "                running_corrects += torch.sum(preds == labels.data)\n",
    "\n",
    "            epoch_loss = running_loss / len(dataloaders[phase].dataset)\n",
    "            epoch_acc = running_corrects.double() / len(dataloaders[phase].dataset)\n",
    "            print('{} Loss: {:.4f} Acc: {:.4f}'.format(phase, epoch_loss, epoch_acc))\n",
    "\n",
    "            # deep copy the model\n",
    "            if phase == 'val' and epoch_acc > best_acc:\n",
    "                best_acc = epoch_acc\n",
    "                best_model_wts = copy.deepcopy(model.state_dict())\n",
    "            if phase == 'val':\n",
    "                val_acc_history.append(epoch_acc)\n",
    "\n",
    "        print()\n",
    "\n",
    "    time_elapsed = time.time() - since\n",
    "    print('Training complete in {:.0f}m {:.0f}s'.format(time_elapsed // 60, time_elapsed % 60))\n",
    "    print('Best val Acc: {:4f}'.format(best_acc))\n",
    "    # load best model weights\n",
    "    model.load_state_dict(best_model_wts)\n",
    "    return model, val_acc_history"
   ]
  },
  {
   "cell_type": "code",
   "execution_count": null,
   "metadata": {},
   "outputs": [],
   "source": [
    "#输出层拥有十倍学习率\n",
    "def train_fine_tuning_vgg(net, train_iter, test_iter, learning_rate=5e-5, num_epochs=10, device=torch.device('cpu')):\n",
    "    loss = nn.CrossEntropyLoss()\n",
    "    params_1x = [param for name, param in net.named_parameters() if name not in [\"classifier.6.weight\", \"classifier.6.bias\"]]               \n",
    "    trainer = torch.optim.SGD([{'params': params_1x},{'params': net.classifier[6].parameters(),'lr': learning_rate*10}],\n",
    "                                lr=learning_rate, weight_decay=0.001)\n",
    "    dataloaders_dict = {'train':train_iter, 'val':test_iter}\n",
    "    finetune_net, hist = train_model(net, dataloaders_dict, loss, trainer, num_epochs, device)\n",
    "    return finetune_net, hist"
   ]
  },
  {
   "cell_type": "code",
   "execution_count": null,
   "metadata": {},
   "outputs": [],
   "source": [
    "pretrained_net = torchvision.models.vgg11_bn(pretrained=True)\n",
    "pretrained_net.classifier[6] = nn.Linear(4096,7)\n",
    "nn.init.xavier_uniform_(pretrained_net.classifier[6].weight)"
   ]
  },
  {
   "cell_type": "code",
   "execution_count": null,
   "metadata": {},
   "outputs": [],
   "source": [
    "# for name, param in pretrained_net.named_parameters():\n",
    "#     print('\\n',name)"
   ]
  },
  {
   "cell_type": "code",
   "execution_count": null,
   "metadata": {
    "origin_pos": 20,
    "tab": [
     "pytorch"
    ]
   },
   "outputs": [],
   "source": [
    "learning_rate, num_epochs, batch_size = 0.001, 25, 64\n",
    "train_iter = DataLoader(train_data, batch_size, shuffle=True, num_workers=4)\n",
    "test_iter = DataLoader(test_data, batch_size, shuffle=False, num_workers=4)\n",
    "finetune_vgg11net, hist = train_fine_tuning_vgg(pretrained_net, train_iter, test_iter, learning_rate, num_epochs, torch.device('cuda:1'))"
   ]
  },
  {
   "cell_type": "code",
   "execution_count": null,
   "metadata": {},
   "outputs": [],
   "source": [
    "torch.save(finetune_vgg11net, './finetune_vgg11net.pkl')"
   ]
  }
 ],
 "metadata": {
  "kernelspec": {
   "display_name": "Python 3 (ipykernel)",
   "language": "python",
   "name": "python3"
  },
  "language_info": {
   "codemirror_mode": {
    "name": "ipython",
    "version": 3
   },
   "file_extension": ".py",
   "mimetype": "text/x-python",
   "name": "python",
   "nbconvert_exporter": "python",
   "pygments_lexer": "ipython3",
   "version": "3.8.10"
  }
 },
 "nbformat": 4,
 "nbformat_minor": 4
}
